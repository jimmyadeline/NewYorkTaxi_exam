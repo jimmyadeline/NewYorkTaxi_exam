{
 "cells": [
  {
   "cell_type": "code",
   "execution_count": 1,
   "metadata": {},
   "outputs": [],
   "source": [
    "import pandas as pd\n",
    "import numpy as np\n",
    "import matplotlib.pyplot as plt\n",
    "%matplotlib inline\n",
    "import seaborn as sns\n",
    "\n",
    "from scipy import stats\n",
    "from patsy import dmatrices\n",
    "import statsmodels.api as sm\n",
    "from statsmodels.stats.outliers_influence import variance_inflation_factor\n",
    "\n",
    "df = pd.read_csv('2013_NYC_taxi_sample.csv')"
   ]
  },
  {
   "cell_type": "code",
   "execution_count": 2,
   "metadata": {},
   "outputs": [
    {
     "data": {
      "text/html": [
       "<div>\n",
       "<style scoped>\n",
       "    .dataframe tbody tr th:only-of-type {\n",
       "        vertical-align: middle;\n",
       "    }\n",
       "\n",
       "    .dataframe tbody tr th {\n",
       "        vertical-align: top;\n",
       "    }\n",
       "\n",
       "    .dataframe thead th {\n",
       "        text-align: right;\n",
       "    }\n",
       "</style>\n",
       "<table border=\"1\" class=\"dataframe\">\n",
       "  <thead>\n",
       "    <tr style=\"text-align: right;\">\n",
       "      <th></th>\n",
       "      <th>pickup_datetime</th>\n",
       "      <th>dropoff_datetime</th>\n",
       "      <th>Passenger_count</th>\n",
       "      <th>Trip_distance</th>\n",
       "      <th>Fare_amount</th>\n",
       "      <th>Tip_amount</th>\n",
       "      <th>Tolls_amount</th>\n",
       "      <th>Total_amount</th>\n",
       "      <th>Pickup_longitude</th>\n",
       "      <th>Pickup_latitude</th>\n",
       "      <th>Dropoff_longitude</th>\n",
       "      <th>Dropoff_latitude</th>\n",
       "      <th>vendor_id</th>\n",
       "    </tr>\n",
       "  </thead>\n",
       "  <tbody>\n",
       "    <tr>\n",
       "      <th>0</th>\n",
       "      <td>2013-10-12 17:23:17</td>\n",
       "      <td>2013-10-12 17:29:03</td>\n",
       "      <td>1</td>\n",
       "      <td>1.29</td>\n",
       "      <td>6.5</td>\n",
       "      <td>1.4</td>\n",
       "      <td>0.0</td>\n",
       "      <td>8.4</td>\n",
       "      <td>-73.978607</td>\n",
       "      <td>40.684574</td>\n",
       "      <td>-73.978622</td>\n",
       "      <td>40.675663</td>\n",
       "      <td>2</td>\n",
       "    </tr>\n",
       "    <tr>\n",
       "      <th>1</th>\n",
       "      <td>2013-10-12 17:23:41</td>\n",
       "      <td>2013-10-12 17:39:14</td>\n",
       "      <td>1</td>\n",
       "      <td>3.29</td>\n",
       "      <td>13.5</td>\n",
       "      <td>0.0</td>\n",
       "      <td>0.0</td>\n",
       "      <td>14.0</td>\n",
       "      <td>-73.905167</td>\n",
       "      <td>40.839924</td>\n",
       "      <td>-73.883690</td>\n",
       "      <td>40.880474</td>\n",
       "      <td>2</td>\n",
       "    </tr>\n",
       "    <tr>\n",
       "      <th>2</th>\n",
       "      <td>2013-10-12 17:23:52</td>\n",
       "      <td>2013-10-12 17:34:33</td>\n",
       "      <td>1</td>\n",
       "      <td>2.33</td>\n",
       "      <td>10.5</td>\n",
       "      <td>0.0</td>\n",
       "      <td>0.0</td>\n",
       "      <td>11.0</td>\n",
       "      <td>-73.844231</td>\n",
       "      <td>40.721508</td>\n",
       "      <td>-73.852493</td>\n",
       "      <td>40.693714</td>\n",
       "      <td>2</td>\n",
       "    </tr>\n",
       "    <tr>\n",
       "      <th>3</th>\n",
       "      <td>2013-10-12 17:23:57</td>\n",
       "      <td>2013-10-12 17:28:55</td>\n",
       "      <td>5</td>\n",
       "      <td>1.42</td>\n",
       "      <td>6.5</td>\n",
       "      <td>0.0</td>\n",
       "      <td>0.0</td>\n",
       "      <td>7.0</td>\n",
       "      <td>-73.951836</td>\n",
       "      <td>40.787243</td>\n",
       "      <td>-73.938934</td>\n",
       "      <td>40.804901</td>\n",
       "      <td>2</td>\n",
       "    </tr>\n",
       "    <tr>\n",
       "      <th>4</th>\n",
       "      <td>2013-10-12 17:24:08</td>\n",
       "      <td>2013-10-12 17:34:45</td>\n",
       "      <td>1</td>\n",
       "      <td>2.66</td>\n",
       "      <td>11.0</td>\n",
       "      <td>2.3</td>\n",
       "      <td>0.0</td>\n",
       "      <td>13.8</td>\n",
       "      <td>-73.870262</td>\n",
       "      <td>40.733791</td>\n",
       "      <td>-73.913704</td>\n",
       "      <td>40.746078</td>\n",
       "      <td>2</td>\n",
       "    </tr>\n",
       "  </tbody>\n",
       "</table>\n",
       "</div>"
      ],
      "text/plain": [
       "       pickup_datetime     dropoff_datetime  Passenger_count  Trip_distance  \\\n",
       "0  2013-10-12 17:23:17  2013-10-12 17:29:03                1           1.29   \n",
       "1  2013-10-12 17:23:41  2013-10-12 17:39:14                1           3.29   \n",
       "2  2013-10-12 17:23:52  2013-10-12 17:34:33                1           2.33   \n",
       "3  2013-10-12 17:23:57  2013-10-12 17:28:55                5           1.42   \n",
       "4  2013-10-12 17:24:08  2013-10-12 17:34:45                1           2.66   \n",
       "\n",
       "   Fare_amount  Tip_amount  Tolls_amount  Total_amount  Pickup_longitude  \\\n",
       "0          6.5         1.4           0.0           8.4        -73.978607   \n",
       "1         13.5         0.0           0.0          14.0        -73.905167   \n",
       "2         10.5         0.0           0.0          11.0        -73.844231   \n",
       "3          6.5         0.0           0.0           7.0        -73.951836   \n",
       "4         11.0         2.3           0.0          13.8        -73.870262   \n",
       "\n",
       "   Pickup_latitude  Dropoff_longitude  Dropoff_latitude  vendor_id  \n",
       "0        40.684574         -73.978622         40.675663          2  \n",
       "1        40.839924         -73.883690         40.880474          2  \n",
       "2        40.721508         -73.852493         40.693714          2  \n",
       "3        40.787243         -73.938934         40.804901          2  \n",
       "4        40.733791         -73.913704         40.746078          2  "
      ]
     },
     "execution_count": 2,
     "metadata": {},
     "output_type": "execute_result"
    }
   ],
   "source": [
    "df.head(5)"
   ]
  },
  {
   "cell_type": "code",
   "execution_count": 3,
   "metadata": {
    "scrolled": true
   },
   "outputs": [
    {
     "data": {
      "text/html": [
       "<div>\n",
       "<style scoped>\n",
       "    .dataframe tbody tr th:only-of-type {\n",
       "        vertical-align: middle;\n",
       "    }\n",
       "\n",
       "    .dataframe tbody tr th {\n",
       "        vertical-align: top;\n",
       "    }\n",
       "\n",
       "    .dataframe thead th {\n",
       "        text-align: right;\n",
       "    }\n",
       "</style>\n",
       "<table border=\"1\" class=\"dataframe\">\n",
       "  <thead>\n",
       "    <tr style=\"text-align: right;\">\n",
       "      <th></th>\n",
       "      <th>Passenger_count</th>\n",
       "      <th>Trip_distance</th>\n",
       "      <th>Fare_amount</th>\n",
       "      <th>Tip_amount</th>\n",
       "      <th>Tolls_amount</th>\n",
       "      <th>Total_amount</th>\n",
       "      <th>Pickup_longitude</th>\n",
       "      <th>Pickup_latitude</th>\n",
       "      <th>Dropoff_longitude</th>\n",
       "      <th>Dropoff_latitude</th>\n",
       "      <th>vendor_id</th>\n",
       "    </tr>\n",
       "  </thead>\n",
       "  <tbody>\n",
       "    <tr>\n",
       "      <th>count</th>\n",
       "      <td>35000.000000</td>\n",
       "      <td>35000.000000</td>\n",
       "      <td>35000.000000</td>\n",
       "      <td>35000.000000</td>\n",
       "      <td>35000.000000</td>\n",
       "      <td>35000.000000</td>\n",
       "      <td>35000.000000</td>\n",
       "      <td>35000.000000</td>\n",
       "      <td>35000.000000</td>\n",
       "      <td>35000.000000</td>\n",
       "      <td>35000.000000</td>\n",
       "    </tr>\n",
       "    <tr>\n",
       "      <th>mean</th>\n",
       "      <td>1.682229</td>\n",
       "      <td>3.070055</td>\n",
       "      <td>12.780579</td>\n",
       "      <td>0.909267</td>\n",
       "      <td>0.151650</td>\n",
       "      <td>14.656840</td>\n",
       "      <td>-73.816351</td>\n",
       "      <td>40.717258</td>\n",
       "      <td>-73.782889</td>\n",
       "      <td>40.690510</td>\n",
       "      <td>1.844429</td>\n",
       "    </tr>\n",
       "    <tr>\n",
       "      <th>std</th>\n",
       "      <td>1.391625</td>\n",
       "      <td>3.047714</td>\n",
       "      <td>10.189144</td>\n",
       "      <td>2.181773</td>\n",
       "      <td>0.936461</td>\n",
       "      <td>11.476384</td>\n",
       "      <td>2.792346</td>\n",
       "      <td>1.540914</td>\n",
       "      <td>3.231756</td>\n",
       "      <td>1.782829</td>\n",
       "      <td>0.362454</td>\n",
       "    </tr>\n",
       "    <tr>\n",
       "      <th>min</th>\n",
       "      <td>0.000000</td>\n",
       "      <td>0.000000</td>\n",
       "      <td>0.000000</td>\n",
       "      <td>0.000000</td>\n",
       "      <td>0.000000</td>\n",
       "      <td>0.000000</td>\n",
       "      <td>-74.147163</td>\n",
       "      <td>0.000000</td>\n",
       "      <td>-74.286713</td>\n",
       "      <td>0.000000</td>\n",
       "      <td>1.000000</td>\n",
       "    </tr>\n",
       "    <tr>\n",
       "      <th>25%</th>\n",
       "      <td>1.000000</td>\n",
       "      <td>1.100000</td>\n",
       "      <td>6.500000</td>\n",
       "      <td>0.000000</td>\n",
       "      <td>0.000000</td>\n",
       "      <td>7.500000</td>\n",
       "      <td>-73.952751</td>\n",
       "      <td>40.743180</td>\n",
       "      <td>-73.960457</td>\n",
       "      <td>40.735764</td>\n",
       "      <td>2.000000</td>\n",
       "    </tr>\n",
       "    <tr>\n",
       "      <th>50%</th>\n",
       "      <td>1.000000</td>\n",
       "      <td>2.070000</td>\n",
       "      <td>10.000000</td>\n",
       "      <td>0.000000</td>\n",
       "      <td>0.000000</td>\n",
       "      <td>11.000000</td>\n",
       "      <td>-73.937370</td>\n",
       "      <td>40.775059</td>\n",
       "      <td>-73.937386</td>\n",
       "      <td>40.764511</td>\n",
       "      <td>2.000000</td>\n",
       "    </tr>\n",
       "    <tr>\n",
       "      <th>75%</th>\n",
       "      <td>1.000000</td>\n",
       "      <td>4.000000</td>\n",
       "      <td>16.000000</td>\n",
       "      <td>1.000000</td>\n",
       "      <td>0.000000</td>\n",
       "      <td>18.000000</td>\n",
       "      <td>-73.897779</td>\n",
       "      <td>40.809971</td>\n",
       "      <td>-73.892288</td>\n",
       "      <td>40.805477</td>\n",
       "      <td>2.000000</td>\n",
       "    </tr>\n",
       "    <tr>\n",
       "      <th>max</th>\n",
       "      <td>9.000000</td>\n",
       "      <td>36.750000</td>\n",
       "      <td>624.000000</td>\n",
       "      <td>160.000000</td>\n",
       "      <td>20.330000</td>\n",
       "      <td>624.500000</td>\n",
       "      <td>0.000000</td>\n",
       "      <td>41.060890</td>\n",
       "      <td>0.000000</td>\n",
       "      <td>41.071342</td>\n",
       "      <td>2.000000</td>\n",
       "    </tr>\n",
       "  </tbody>\n",
       "</table>\n",
       "</div>"
      ],
      "text/plain": [
       "       Passenger_count  Trip_distance   Fare_amount    Tip_amount  \\\n",
       "count     35000.000000   35000.000000  35000.000000  35000.000000   \n",
       "mean          1.682229       3.070055     12.780579      0.909267   \n",
       "std           1.391625       3.047714     10.189144      2.181773   \n",
       "min           0.000000       0.000000      0.000000      0.000000   \n",
       "25%           1.000000       1.100000      6.500000      0.000000   \n",
       "50%           1.000000       2.070000     10.000000      0.000000   \n",
       "75%           1.000000       4.000000     16.000000      1.000000   \n",
       "max           9.000000      36.750000    624.000000    160.000000   \n",
       "\n",
       "       Tolls_amount  Total_amount  Pickup_longitude  Pickup_latitude  \\\n",
       "count  35000.000000  35000.000000      35000.000000     35000.000000   \n",
       "mean       0.151650     14.656840        -73.816351        40.717258   \n",
       "std        0.936461     11.476384          2.792346         1.540914   \n",
       "min        0.000000      0.000000        -74.147163         0.000000   \n",
       "25%        0.000000      7.500000        -73.952751        40.743180   \n",
       "50%        0.000000     11.000000        -73.937370        40.775059   \n",
       "75%        0.000000     18.000000        -73.897779        40.809971   \n",
       "max       20.330000    624.500000          0.000000        41.060890   \n",
       "\n",
       "       Dropoff_longitude  Dropoff_latitude     vendor_id  \n",
       "count       35000.000000      35000.000000  35000.000000  \n",
       "mean          -73.782889         40.690510      1.844429  \n",
       "std             3.231756          1.782829      0.362454  \n",
       "min           -74.286713          0.000000      1.000000  \n",
       "25%           -73.960457         40.735764      2.000000  \n",
       "50%           -73.937386         40.764511      2.000000  \n",
       "75%           -73.892288         40.805477      2.000000  \n",
       "max             0.000000         41.071342      2.000000  "
      ]
     },
     "execution_count": 3,
     "metadata": {},
     "output_type": "execute_result"
    }
   ],
   "source": [
    "df.describe()"
   ]
  },
  {
   "cell_type": "code",
   "execution_count": 4,
   "metadata": {},
   "outputs": [
    {
     "data": {
      "text/plain": [
       "2    29555\n",
       "1     5445\n",
       "Name: vendor_id, dtype: int64"
      ]
     },
     "execution_count": 4,
     "metadata": {},
     "output_type": "execute_result"
    }
   ],
   "source": [
    "df['vendor_id'].value_counts()"
   ]
  },
  {
   "cell_type": "markdown",
   "metadata": {},
   "source": [
    "### General Steps:\n",
    "1. Use the pickup_datetime & dropoff_datetime, generate trip_time for each trip.\n",
    "\n",
    "2. Clean data: \n",
    "   - Drop zeros in Trip distance and Total amount. \n",
    "   - Drop outliers in features used in the work.\n",
    "   \n",
    " \n",
    "3. Define Matrix as **Price per mile** and **Price per minute** to evaluate the performance.\n",
    "\n",
    "4. Use T-test to test the difference between Company 1 and Company 2\n",
    "\n",
    "5. Use Regressions to identify whether Company 2 is significantly from Company 1 in the defined features. "
   ]
  },
  {
   "cell_type": "markdown",
   "metadata": {},
   "source": [
    "#### Create New variable: Time of the trip"
   ]
  },
  {
   "cell_type": "code",
   "execution_count": 5,
   "metadata": {},
   "outputs": [],
   "source": [
    "import datetime as dt\n",
    "df['pickup_datetime'] = pd.to_datetime(df['pickup_datetime'])\n",
    "df['dropoff_datetime'] = pd.to_datetime(df['dropoff_datetime'])\n",
    "\n",
    "df['Trip_time']=(df['dropoff_datetime'] - df['pickup_datetime']).astype('timedelta64[m]')"
   ]
  },
  {
   "cell_type": "code",
   "execution_count": 6,
   "metadata": {},
   "outputs": [
    {
     "data": {
      "text/plain": [
       "count    35000.000000\n",
       "mean        12.843771\n",
       "std         29.472903\n",
       "min      -1411.000000\n",
       "25%          5.000000\n",
       "50%         10.000000\n",
       "75%         16.000000\n",
       "max       1421.000000\n",
       "Name: Trip_time, dtype: float64"
      ]
     },
     "execution_count": 6,
     "metadata": {},
     "output_type": "execute_result"
    }
   ],
   "source": [
    "df['Trip_time'].describe()"
   ]
  },
  {
   "cell_type": "code",
   "execution_count": 7,
   "metadata": {},
   "outputs": [
    {
     "data": {
      "text/plain": [
       "12.807915851272014"
      ]
     },
     "execution_count": 7,
     "metadata": {},
     "output_type": "execute_result"
    }
   ],
   "source": [
    "df[df['Trip_time']<=0]['Total_amount'].mean()"
   ]
  },
  {
   "cell_type": "markdown",
   "metadata": {},
   "source": [
    "**Mark**: I am not sure if it is wrong with the data for charging customers with Trip time=0, but in this work I will drop those Trip time<=0"
   ]
  },
  {
   "cell_type": "code",
   "execution_count": 8,
   "metadata": {},
   "outputs": [],
   "source": [
    "# Roughly Clean data: drop out distance==0 or total amount ==0 or Trip time==0\n",
    "df_sub= df[(df['Trip_distance']!=0) & (df['Total_amount']!=0) & (df['Trip_time']>0)].copy()"
   ]
  },
  {
   "cell_type": "code",
   "execution_count": 9,
   "metadata": {},
   "outputs": [
    {
     "data": {
      "text/html": [
       "<div>\n",
       "<style scoped>\n",
       "    .dataframe tbody tr th:only-of-type {\n",
       "        vertical-align: middle;\n",
       "    }\n",
       "\n",
       "    .dataframe tbody tr th {\n",
       "        vertical-align: top;\n",
       "    }\n",
       "\n",
       "    .dataframe thead th {\n",
       "        text-align: right;\n",
       "    }\n",
       "</style>\n",
       "<table border=\"1\" class=\"dataframe\">\n",
       "  <thead>\n",
       "    <tr style=\"text-align: right;\">\n",
       "      <th></th>\n",
       "      <th>Passenger_count</th>\n",
       "      <th>Trip_distance</th>\n",
       "      <th>Fare_amount</th>\n",
       "      <th>Tip_amount</th>\n",
       "      <th>Tolls_amount</th>\n",
       "      <th>Total_amount</th>\n",
       "      <th>Pickup_longitude</th>\n",
       "      <th>Pickup_latitude</th>\n",
       "      <th>Dropoff_longitude</th>\n",
       "      <th>Dropoff_latitude</th>\n",
       "      <th>vendor_id</th>\n",
       "      <th>Trip_time</th>\n",
       "    </tr>\n",
       "  </thead>\n",
       "  <tbody>\n",
       "    <tr>\n",
       "      <th>count</th>\n",
       "      <td>32888.000000</td>\n",
       "      <td>32888.000000</td>\n",
       "      <td>32888.000000</td>\n",
       "      <td>32888.000000</td>\n",
       "      <td>32888.000000</td>\n",
       "      <td>32888.000000</td>\n",
       "      <td>32888.000000</td>\n",
       "      <td>32888.000000</td>\n",
       "      <td>32888.000000</td>\n",
       "      <td>32888.000000</td>\n",
       "      <td>32888.000000</td>\n",
       "      <td>32888.000000</td>\n",
       "    </tr>\n",
       "    <tr>\n",
       "      <th>mean</th>\n",
       "      <td>1.701472</td>\n",
       "      <td>3.237682</td>\n",
       "      <td>13.013329</td>\n",
       "      <td>0.951693</td>\n",
       "      <td>0.156984</td>\n",
       "      <td>14.951807</td>\n",
       "      <td>-73.870707</td>\n",
       "      <td>40.746430</td>\n",
       "      <td>-73.902476</td>\n",
       "      <td>40.755214</td>\n",
       "      <td>1.856756</td>\n",
       "      <td>13.273626</td>\n",
       "    </tr>\n",
       "    <tr>\n",
       "      <th>std</th>\n",
       "      <td>1.412999</td>\n",
       "      <td>3.039782</td>\n",
       "      <td>9.130841</td>\n",
       "      <td>2.038190</td>\n",
       "      <td>0.945650</td>\n",
       "      <td>10.555789</td>\n",
       "      <td>1.954682</td>\n",
       "      <td>1.079110</td>\n",
       "      <td>1.289970</td>\n",
       "      <td>0.712736</td>\n",
       "      <td>0.350327</td>\n",
       "      <td>26.135630</td>\n",
       "    </tr>\n",
       "    <tr>\n",
       "      <th>min</th>\n",
       "      <td>1.000000</td>\n",
       "      <td>0.010000</td>\n",
       "      <td>0.000000</td>\n",
       "      <td>0.000000</td>\n",
       "      <td>0.000000</td>\n",
       "      <td>0.010000</td>\n",
       "      <td>-74.075592</td>\n",
       "      <td>0.000000</td>\n",
       "      <td>-74.286713</td>\n",
       "      <td>0.000000</td>\n",
       "      <td>1.000000</td>\n",
       "      <td>1.000000</td>\n",
       "    </tr>\n",
       "    <tr>\n",
       "      <th>25%</th>\n",
       "      <td>1.000000</td>\n",
       "      <td>1.230000</td>\n",
       "      <td>7.000000</td>\n",
       "      <td>0.000000</td>\n",
       "      <td>0.000000</td>\n",
       "      <td>8.000000</td>\n",
       "      <td>-73.953255</td>\n",
       "      <td>40.741020</td>\n",
       "      <td>-73.961847</td>\n",
       "      <td>40.734359</td>\n",
       "      <td>2.000000</td>\n",
       "      <td>6.000000</td>\n",
       "    </tr>\n",
       "    <tr>\n",
       "      <th>50%</th>\n",
       "      <td>1.000000</td>\n",
       "      <td>2.200000</td>\n",
       "      <td>10.000000</td>\n",
       "      <td>0.000000</td>\n",
       "      <td>0.000000</td>\n",
       "      <td>11.500000</td>\n",
       "      <td>-73.937813</td>\n",
       "      <td>40.775330</td>\n",
       "      <td>-73.938126</td>\n",
       "      <td>40.764782</td>\n",
       "      <td>2.000000</td>\n",
       "      <td>10.000000</td>\n",
       "    </tr>\n",
       "    <tr>\n",
       "      <th>75%</th>\n",
       "      <td>1.000000</td>\n",
       "      <td>4.200000</td>\n",
       "      <td>16.500000</td>\n",
       "      <td>1.300000</td>\n",
       "      <td>0.000000</td>\n",
       "      <td>18.500000</td>\n",
       "      <td>-73.898003</td>\n",
       "      <td>40.809426</td>\n",
       "      <td>-73.892159</td>\n",
       "      <td>40.805038</td>\n",
       "      <td>2.000000</td>\n",
       "      <td>16.000000</td>\n",
       "    </tr>\n",
       "    <tr>\n",
       "      <th>max</th>\n",
       "      <td>7.000000</td>\n",
       "      <td>36.750000</td>\n",
       "      <td>166.500000</td>\n",
       "      <td>90.000000</td>\n",
       "      <td>20.330000</td>\n",
       "      <td>167.000000</td>\n",
       "      <td>0.000000</td>\n",
       "      <td>40.981766</td>\n",
       "      <td>0.000000</td>\n",
       "      <td>41.071342</td>\n",
       "      <td>2.000000</td>\n",
       "      <td>1421.000000</td>\n",
       "    </tr>\n",
       "  </tbody>\n",
       "</table>\n",
       "</div>"
      ],
      "text/plain": [
       "       Passenger_count  Trip_distance   Fare_amount    Tip_amount  \\\n",
       "count     32888.000000   32888.000000  32888.000000  32888.000000   \n",
       "mean          1.701472       3.237682     13.013329      0.951693   \n",
       "std           1.412999       3.039782      9.130841      2.038190   \n",
       "min           1.000000       0.010000      0.000000      0.000000   \n",
       "25%           1.000000       1.230000      7.000000      0.000000   \n",
       "50%           1.000000       2.200000     10.000000      0.000000   \n",
       "75%           1.000000       4.200000     16.500000      1.300000   \n",
       "max           7.000000      36.750000    166.500000     90.000000   \n",
       "\n",
       "       Tolls_amount  Total_amount  Pickup_longitude  Pickup_latitude  \\\n",
       "count  32888.000000  32888.000000      32888.000000     32888.000000   \n",
       "mean       0.156984     14.951807        -73.870707        40.746430   \n",
       "std        0.945650     10.555789          1.954682         1.079110   \n",
       "min        0.000000      0.010000        -74.075592         0.000000   \n",
       "25%        0.000000      8.000000        -73.953255        40.741020   \n",
       "50%        0.000000     11.500000        -73.937813        40.775330   \n",
       "75%        0.000000     18.500000        -73.898003        40.809426   \n",
       "max       20.330000    167.000000          0.000000        40.981766   \n",
       "\n",
       "       Dropoff_longitude  Dropoff_latitude     vendor_id     Trip_time  \n",
       "count       32888.000000      32888.000000  32888.000000  32888.000000  \n",
       "mean          -73.902476         40.755214      1.856756     13.273626  \n",
       "std             1.289970          0.712736      0.350327     26.135630  \n",
       "min           -74.286713          0.000000      1.000000      1.000000  \n",
       "25%           -73.961847         40.734359      2.000000      6.000000  \n",
       "50%           -73.938126         40.764782      2.000000     10.000000  \n",
       "75%           -73.892159         40.805038      2.000000     16.000000  \n",
       "max             0.000000         41.071342      2.000000   1421.000000  "
      ]
     },
     "execution_count": 9,
     "metadata": {},
     "output_type": "execute_result"
    }
   ],
   "source": [
    "df_sub.describe()"
   ]
  },
  {
   "cell_type": "code",
   "execution_count": 10,
   "metadata": {
    "scrolled": true
   },
   "outputs": [
    {
     "data": {
      "text/plain": [
       "<matplotlib.axes._subplots.AxesSubplot at 0x1aecd8e6ac8>"
      ]
     },
     "execution_count": 10,
     "metadata": {},
     "output_type": "execute_result"
    },
    {
     "data": {
      "image/png": "[encoded data removed]",
      "text/plain": [
       "<Figure size 432x288 with 2 Axes>"
      ]
     },
     "metadata": {
      "needs_background": "light"
     },
     "output_type": "display_data"
    }
   ],
   "source": [
    "correlations = df_sub.iloc[:,3:8].corr()\n",
    "sns.heatmap(correlations*100, annot=True, fmt='.0f') "
   ]
  },
  {
   "cell_type": "markdown",
   "metadata": {},
   "source": [
    "Exclude extreme long trip"
   ]
  },
  {
   "cell_type": "code",
   "execution_count": 11,
   "metadata": {},
   "outputs": [
    {
     "name": "stdout",
     "output_type": "stream",
     "text": [
      "53.76040000000008\n"
     ]
    }
   ],
   "source": [
    "print(df_sub['Total_amount'].quantile(0.99))\n",
    "\n",
    "# Based on the quantile value above, cut off the total amount at $50 (out of 50 as outliers). \n",
    "df_sub = df_sub[df_sub['Total_amount']<50]"
   ]
  },
  {
   "cell_type": "code",
   "execution_count": 12,
   "metadata": {},
   "outputs": [
    {
     "name": "stdout",
     "output_type": "stream",
     "text": [
      "65.0\n"
     ]
    }
   ],
   "source": [
    "print(df_sub['Trip_time'].quantile(0.999))\n",
    "\n",
    "# Based on the quantile value above, cut off the Trip time at 65 min\n",
    "df_sub = df_sub[df_sub['Trip_time']<65]"
   ]
  },
  {
   "cell_type": "markdown",
   "metadata": {},
   "source": [
    "### Create New variable: Price per distance & Price per minute"
   ]
  },
  {
   "cell_type": "code",
   "execution_count": 13,
   "metadata": {},
   "outputs": [
    {
     "name": "stdout",
     "output_type": "stream",
     "text": [
      "16.666666666666664\n"
     ]
    }
   ],
   "source": [
    "# Define a new variable dollar_per_distance = Total amount / distance \n",
    "df_sub['dollar_per_distance']=df_sub['Total_amount']/df_sub['Trip_distance']\n",
    "print(df_sub['dollar_per_distance'].quantile(q=0.99))\n",
    "df_sub = df_sub[df_sub['dollar_per_distance']<df_sub['dollar_per_distance'].quantile(q=0.99)]"
   ]
  },
  {
   "cell_type": "code",
   "execution_count": 14,
   "metadata": {},
   "outputs": [
    {
     "name": "stdout",
     "output_type": "stream",
     "text": [
      "5.8298333333335295\n"
     ]
    }
   ],
   "source": [
    "# Define a new variable dollar_per_minute = Total amount / Time \n",
    "df_sub['dollar_per_minute']=df_sub['Total_amount']/df_sub['Trip_time']\n",
    "print(df_sub['dollar_per_minute'].quantile(q=0.999))\n",
    "df_sub = df_sub[df_sub['dollar_per_minute']<df_sub['dollar_per_minute'].quantile(q=0.999)]"
   ]
  },
  {
   "cell_type": "code",
   "execution_count": 15,
   "metadata": {
    "scrolled": true
   },
   "outputs": [
    {
     "data": {
      "image/png": "[encoded data removed]",
      "text/plain": [
       "<Figure size 648x648 with 6 Axes>"
      ]
     },
     "metadata": {
      "needs_background": "light"
     },
     "output_type": "display_data"
    }
   ],
   "source": [
    "df_sub.iloc[:,[3,5,7,13,14,15]].hist(figsize=(9,9),xrot=-45)\n",
    "plt.show()"
   ]
  },
  {
   "cell_type": "code",
   "execution_count": 16,
   "metadata": {},
   "outputs": [
    {
     "data": {
      "text/plain": [
       "2    27434\n",
       "1     4576\n",
       "Name: vendor_id, dtype: int64"
      ]
     },
     "execution_count": 16,
     "metadata": {},
     "output_type": "execute_result"
    }
   ],
   "source": [
    "df_sub['vendor_id'].value_counts()"
   ]
  },
  {
   "cell_type": "markdown",
   "metadata": {},
   "source": [
    "### General statistical tests between the two companies with Graphs\n",
    "\n",
    "Results: t-test shows the Company 1 has **higher price per distance**  rate. Company 2 has **longer trip distance** and **longer trip time** and **Total Amount of the trip**. But no difference in price per minutes."
   ]
  },
  {
   "cell_type": "code",
   "execution_count": 17,
   "metadata": {},
   "outputs": [],
   "source": [
    "com1 = df_sub[df_sub['vendor_id']==1]\n",
    "com2 = df_sub[df_sub['vendor_id']==2]"
   ]
  },
  {
   "cell_type": "markdown",
   "metadata": {},
   "source": [
    "#### Amount per Distance"
   ]
  },
  {
   "cell_type": "code",
   "execution_count": 18,
   "metadata": {
    "scrolled": false
   },
   "outputs": [
    {
     "name": "stdout",
     "output_type": "stream",
     "text": [
      "Ttest_indResult(statistic=3.312708310346912, pvalue=0.0009294457388427494)\n",
      "vendor_id\n",
      "1    5.810072\n",
      "2    5.697635\n",
      "Name: dollar_per_distance, dtype: float64\n"
     ]
    },
    {
     "name": "stderr",
     "output_type": "stream",
     "text": [
      "C:\\Users\\yydab\\Anaconda3\\lib\\site-packages\\scipy\\stats\\stats.py:1713: FutureWarning: Using a non-tuple sequence for multidimensional indexing is deprecated; use `arr[tuple(seq)]` instead of `arr[seq]`. In the future this will be interpreted as an array index, `arr[np.array(seq)]`, which will result either in an error or a different result.\n",
      "  return np.add.reduce(sorted[indexer] * weights, axis=axis) / sumval\n"
     ]
    },
    {
     "data": {
      "text/plain": [
       "Text(0.5, 1.0, 'Difference between Dollar per Distance')"
      ]
     },
     "execution_count": 18,
     "metadata": {},
     "output_type": "execute_result"
    },
    {
     "data": {
      "image/png": "[encoded data removed]",
      "text/plain": [
       "<Figure size 432x288 with 1 Axes>"
      ]
     },
     "metadata": {
      "needs_background": "light"
     },
     "output_type": "display_data"
    }
   ],
   "source": [
    "print(stats.ttest_ind(com1['dollar_per_distance'], com2['dollar_per_distance'], equal_var = False))\n",
    "print(df_sub.groupby(by=['vendor_id'])['dollar_per_distance'].mean())\n",
    "\n",
    "ax0 = sns.kdeplot(df_sub['dollar_per_distance'][(df_sub['vendor_id']==1)], \n",
    "              shade=True, color=\"r\", label='company 1')\n",
    "ax0 = sns.kdeplot(df_sub['dollar_per_distance'][(df_sub['vendor_id']==2)], \n",
    "              shade=True, color=\"b\", label='company 2')\n",
    "ax0.set_title(\"Difference between Dollar per Distance\")"
   ]
  },
  {
   "cell_type": "markdown",
   "metadata": {},
   "source": [
    "#### Amount per Minutes"
   ]
  },
  {
   "cell_type": "code",
   "execution_count": 19,
   "metadata": {},
   "outputs": [
    {
     "name": "stdout",
     "output_type": "stream",
     "text": [
      "Ttest_indResult(statistic=0.9072416896124116, pvalue=0.3643147486527085)\n",
      "vendor_id\n",
      "1    1.335310\n",
      "2    1.327755\n",
      "Name: dollar_per_minute, dtype: float64\n"
     ]
    },
    {
     "data": {
      "text/plain": [
       "Text(0.5, 1.0, 'Difference between Dollar per Minute')"
      ]
     },
     "execution_count": 19,
     "metadata": {},
     "output_type": "execute_result"
    },
    {
     "data": {
      "image/png": "[encoded data removed]",
      "text/plain": [
       "<Figure size 432x288 with 1 Axes>"
      ]
     },
     "metadata": {
      "needs_background": "light"
     },
     "output_type": "display_data"
    }
   ],
   "source": [
    "print(stats.ttest_ind(com1['dollar_per_minute'], com2['dollar_per_minute'], equal_var = False))\n",
    "print(df_sub.groupby(by=['vendor_id'])['dollar_per_minute'].mean())\n",
    "\n",
    "ax1 = sns.kdeplot(df_sub['dollar_per_minute'][(df_sub['vendor_id']==1)], \n",
    "              shade=True, color=\"r\", label='company 1')\n",
    "ax1 = sns.kdeplot(df_sub['dollar_per_minute'][(df_sub['vendor_id']==2)], \n",
    "              shade=True, color=\"b\", label='company 2')\n",
    "ax1.set_title(\"Difference between Dollar per Minute\")"
   ]
  },
  {
   "cell_type": "code",
   "execution_count": 20,
   "metadata": {
    "scrolled": false
   },
   "outputs": [
    {
     "name": "stdout",
     "output_type": "stream",
     "text": [
      "Ttest_indResult(statistic=-3.9791596088447205, pvalue=6.993328813565174e-05)\n",
      "vendor_id\n",
      "1    13.861263\n",
      "2    14.404668\n",
      "Name: Total_amount, dtype: float64\n",
      "Ttest_indResult(statistic=-3.037807361238313, pvalue=0.002392898874395472)\n",
      "vendor_id\n",
      "1    2.981600\n",
      "2    3.105278\n",
      "Name: Trip_distance, dtype: float64\n",
      "Ttest_indResult(statistic=-2.920386404667453, pvalue=0.00350852205895152)\n",
      "vendor_id\n",
      "1    2.981600\n",
      "2    3.105278\n",
      "Name: Trip_distance, dtype: float64\n"
     ]
    }
   ],
   "source": [
    "# Amount of the trip\n",
    "print(stats.ttest_ind(com1['Total_amount'], com2['Total_amount'], equal_var = False))\n",
    "print(df_sub.groupby(by=['vendor_id'])['Total_amount'].mean())\n",
    "\n",
    "# Trip Distance\n",
    "print(stats.ttest_ind(com1['Trip_distance'], com2['Trip_distance'], equal_var = False))\n",
    "print(df_sub.groupby(by=['vendor_id'])['Trip_distance'].mean())\n",
    "\n",
    "# Trip Time\n",
    "print(stats.ttest_ind(com1['Trip_time'], com2['Trip_time'], equal_var = False))\n",
    "print(df_sub.groupby(by=['vendor_id'])['Trip_distance'].mean())"
   ]
  },
  {
   "cell_type": "code",
   "execution_count": 21,
   "metadata": {},
   "outputs": [
    {
     "name": "stdout",
     "output_type": "stream",
     "text": [
      "Ttest_indResult(statistic=-38.73818194507485, pvalue=0.0)\n",
      "vendor_id\n",
      "1    1.274694\n",
      "2    1.777247\n",
      "Name: Passenger_count, dtype: float64\n"
     ]
    }
   ],
   "source": [
    "print(stats.ttest_ind(com1['Passenger_count'], com2['Passenger_count'], equal_var = False))\n",
    "print(df_sub.groupby(by=['vendor_id'])['Passenger_count'].mean())"
   ]
  },
  {
   "cell_type": "markdown",
   "metadata": {},
   "source": [
    "## Linear regression: \n",
    "\n",
    "**Equation 1: Total_amount = Company2 (Dummy) + Trip_distance + Time + (Passage number>4(Dummy))**\n",
    "\n",
    "**Equation 2: Amount_per_Distance = Company2 (Dummy) + Trip_distance + Time + (Passage number>4(Dummy))**\n",
    "\n",
    "**Equation 3: Amount_per_Minutes = Company2 (Dummy) + Trip_distance + Time + (Passage number>4(Dummy))**\n",
    "\n",
    "Explain: we want to check whether the coefficient of company 2 is greater than company 1 with control of trip distance and time, which means in general company 2 charge higher than company 1. The variable Passage number>4(Dummy) is an indicator that whether the group of passangers need a larger SUV taxi.\n",
    "\n",
    "#### Test of Multi-collinearity by VIF (variance inflation factor)\n",
    "\n",
    "Be careful: **Multi-collinearity** Problme in regressions"
   ]
  },
  {
   "cell_type": "code",
   "execution_count": 22,
   "metadata": {},
   "outputs": [
    {
     "data": {
      "text/plain": [
       "0.8570446735395189"
      ]
     },
     "execution_count": 22,
     "metadata": {},
     "output_type": "execute_result"
    }
   ],
   "source": [
    "# Dummy variable for company 2:\n",
    "df_sub['comp_dummy'] = df['vendor_id'].map({1: 0, 2: 1})\n",
    "df_sub['comp_dummy'].mean()"
   ]
  },
  {
   "cell_type": "code",
   "execution_count": 23,
   "metadata": {},
   "outputs": [
    {
     "data": {
      "text/plain": [
       "0.13398937831927524"
      ]
     },
     "execution_count": 23,
     "metadata": {},
     "output_type": "execute_result"
    }
   ],
   "source": [
    "# Dummy variable for Passage number>4:\n",
    "df_sub['large_car'] = df['Passenger_count']>4\n",
    "df_sub['large_car'].fillna(0)\n",
    "df_sub['large_car'].mean()\n",
    "# df_sub['large_car'] = pd.get_dummies(df['Passenger_count']>4)"
   ]
  },
  {
   "cell_type": "code",
   "execution_count": 24,
   "metadata": {},
   "outputs": [],
   "source": [
    "# Break into left and right hand side; y and X\n",
    "y1, X = dmatrices(\"Total_amount ~ comp_dummy+Trip_distance+Trip_time+large_car\", data=df_sub, return_type=\"dataframe\")\n",
    "\n",
    "# calculate VIF (If VIF>10, seriously collinearity problem, need conduct feature selection)\n",
    "vif = [variance_inflation_factor(X.values, i) for i in range(X.shape[1])]\n",
    "\n",
    "# Fit X to y\n",
    "result1 = sm.OLS(y1, X).fit()"
   ]
  },
  {
   "cell_type": "code",
   "execution_count": 25,
   "metadata": {
    "scrolled": true
   },
   "outputs": [
    {
     "name": "stdout",
     "output_type": "stream",
     "text": [
      "[8.875695109569765, 1.0261385032856887, 1.0263422500251096, 2.485994292894629, 2.4861346676159393]\n"
     ]
    }
   ],
   "source": [
    "print(vif)"
   ]
  },
  {
   "cell_type": "markdown",
   "metadata": {},
   "source": [
    "**Collinearity**: The collinearity problem is moderate. We can use Trip_distance and Trip_time in the same equation"
   ]
  },
  {
   "cell_type": "code",
   "execution_count": 26,
   "metadata": {},
   "outputs": [
    {
     "name": "stdout",
     "output_type": "stream",
     "text": [
      "                            OLS Regression Results                            \n",
      "==============================================================================\n",
      "Dep. Variable:           Total_amount   R-squared:                       0.929\n",
      "Model:                            OLS   Adj. R-squared:                  0.929\n",
      "Method:                 Least Squares   F-statistic:                 1.054e+05\n",
      "Date:                Fri, 22 Feb 2019   Prob (F-statistic):               0.00\n",
      "Time:                        16:56:23   Log-Likelihood:                -72455.\n",
      "No. Observations:               32010   AIC:                         1.449e+05\n",
      "Df Residuals:                   32005   BIC:                         1.450e+05\n",
      "Df Model:                           4                                         \n",
      "Covariance Type:            nonrobust                                         \n",
      "=====================================================================================\n",
      "                        coef    std err          t      P>|t|      [0.025      0.975]\n",
      "-------------------------------------------------------------------------------------\n",
      "Intercept             2.8961      0.039     74.737      0.000       2.820       2.972\n",
      "large_car[T.True]     0.1621      0.039      4.191      0.000       0.086       0.238\n",
      "comp_dummy            0.0954      0.038      2.533      0.011       0.022       0.169\n",
      "Trip_distance         2.2344      0.008    280.778      0.000       2.219       2.250\n",
      "Trip_time             0.3570      0.002    154.158      0.000       0.352       0.362\n",
      "==============================================================================\n",
      "Omnibus:                    11256.672   Durbin-Watson:                   1.939\n",
      "Prob(Omnibus):                  0.000   Jarque-Bera (JB):          1310735.543\n",
      "Skew:                          -0.683   Prob(JB):                         0.00\n",
      "Kurtosis:                      34.319   Cond. No.                         62.2\n",
      "==============================================================================\n",
      "\n",
      "Warnings:\n",
      "[1] Standard Errors assume that the covariance matrix of the errors is correctly specified.\n"
     ]
    }
   ],
   "source": [
    "print(result1.summary())"
   ]
  },
  {
   "cell_type": "code",
   "execution_count": 27,
   "metadata": {},
   "outputs": [
    {
     "name": "stdout",
     "output_type": "stream",
     "text": [
      "                             OLS Regression Results                            \n",
      "===============================================================================\n",
      "Dep. Variable:     dollar_per_distance   R-squared:                       0.407\n",
      "Model:                             OLS   Adj. R-squared:                  0.407\n",
      "Method:                  Least Squares   F-statistic:                     5500.\n",
      "Date:                 Fri, 22 Feb 2019   Prob (F-statistic):               0.00\n",
      "Time:                         16:56:23   Log-Likelihood:                -59737.\n",
      "No. Observations:                32010   AIC:                         1.195e+05\n",
      "Df Residuals:                    32005   BIC:                         1.195e+05\n",
      "Df Model:                            4                                         \n",
      "Covariance Type:             nonrobust                                         \n",
      "=====================================================================================\n",
      "                        coef    std err          t      P>|t|      [0.025      0.975]\n",
      "-------------------------------------------------------------------------------------\n",
      "Intercept             7.1769      0.026    275.554      0.000       7.126       7.228\n",
      "large_car[T.True]     0.0234      0.026      0.900      0.368      -0.028       0.074\n",
      "comp_dummy           -0.0567      0.025     -2.243      0.025      -0.106      -0.007\n",
      "Trip_distance        -0.5765      0.005   -107.785      0.000      -0.587      -0.566\n",
      "Trip_time             0.0292      0.002     18.763      0.000       0.026       0.032\n",
      "==============================================================================\n",
      "Omnibus:                    12455.859   Durbin-Watson:                   1.944\n",
      "Prob(Omnibus):                  0.000   Jarque-Bera (JB):            58016.158\n",
      "Skew:                           1.867   Prob(JB):                         0.00\n",
      "Kurtosis:                       8.437   Cond. No.                         62.2\n",
      "==============================================================================\n",
      "\n",
      "Warnings:\n",
      "[1] Standard Errors assume that the covariance matrix of the errors is correctly specified.\n"
     ]
    }
   ],
   "source": [
    "# Break into left and right hand side; y and X\n",
    "y2, X = dmatrices(\"dollar_per_distance ~ comp_dummy+Trip_distance+Trip_time+large_car\", data=df_sub, return_type=\"dataframe\")\n",
    "\n",
    "# Fit X to y\n",
    "result2 = sm.OLS(y2, X).fit()\n",
    "print(result2.summary())"
   ]
  },
  {
   "cell_type": "code",
   "execution_count": 28,
   "metadata": {
    "scrolled": false
   },
   "outputs": [
    {
     "name": "stdout",
     "output_type": "stream",
     "text": [
      "                            OLS Regression Results                            \n",
      "==============================================================================\n",
      "Dep. Variable:      dollar_per_minute   R-squared:                       0.349\n",
      "Model:                            OLS   Adj. R-squared:                  0.349\n",
      "Method:                 Least Squares   F-statistic:                     4290.\n",
      "Date:                Fri, 22 Feb 2019   Prob (F-statistic):               0.00\n",
      "Time:                        16:56:23   Log-Likelihood:                -17134.\n",
      "No. Observations:               32010   AIC:                         3.428e+04\n",
      "Df Residuals:                   32005   BIC:                         3.432e+04\n",
      "Df Model:                           4                                         \n",
      "Covariance Type:            nonrobust                                         \n",
      "=====================================================================================\n",
      "                        coef    std err          t      P>|t|      [0.025      0.975]\n",
      "-------------------------------------------------------------------------------------\n",
      "Intercept             1.6372      0.007    237.899      0.000       1.624       1.651\n",
      "large_car[T.True]     0.0137      0.007      1.989      0.047       0.000       0.027\n",
      "comp_dummy           -0.0018      0.007     -0.271      0.787      -0.015       0.011\n",
      "Trip_distance         0.1097      0.001     77.635      0.000       0.107       0.112\n",
      "Trip_time            -0.0522      0.000   -126.905      0.000      -0.053      -0.051\n",
      "==============================================================================\n",
      "Omnibus:                    24621.602   Durbin-Watson:                   1.989\n",
      "Prob(Omnibus):                  0.000   Jarque-Bera (JB):           628518.900\n",
      "Skew:                           3.528   Prob(JB):                         0.00\n",
      "Kurtosis:                      23.530   Cond. No.                         62.2\n",
      "==============================================================================\n",
      "\n",
      "Warnings:\n",
      "[1] Standard Errors assume that the covariance matrix of the errors is correctly specified.\n"
     ]
    }
   ],
   "source": [
    "# Break into left and right hand side; y and X\n",
    "y3, X = dmatrices(\"dollar_per_minute ~ comp_dummy+Trip_distance+Trip_time+large_car\", data=df_sub, return_type=\"dataframe\")\n",
    "\n",
    "# Fit X to y\n",
    "result3 = sm.OLS(y3, X).fit()\n",
    "print(result3.summary())"
   ]
  },
  {
   "cell_type": "markdown",
   "metadata": {},
   "source": [
    "### Conclusion:\n",
    "With a focus on variable comp_dummy(whether it is company 2), the regression results show us:\n",
    " Company 2 has significantly higher total amount per trip (0.0954, p<0.05) \n",
    " Company 2 has significantly lower amount per distance (-0.0567, p<0.05)\n",
    " There is no significant difference in price per minute between the two companies (p=0.787). \n",
    "\n",
    "**In conclusion**: \n",
    "\n",
    " Assume the gas price and labor fee are the same for two companies, Company 1 charge higher in Price per mile. If the we care about the matrix \"price per mile\", then we can conclude Company 1 did a better job based on this database.\n",
    " \n",
    " \n",
    " However, this may lead to fewer customers in the market. If the sample is randomly selected and contains all trips within a certain time period in New York, then we can see Company 2 has a larger market share. If we define:\n",
    " \n",
    "  **Total Profit = Amount per trip * Number of trips -  Variable cost - Fix Cost**\n",
    " \n",
    " It is highly possible that Company 2, with a little bit sacrifice of profit per trip but won a bigger market, performed better in total profit. \n"
   ]
  }
 ],
 "metadata": {
  "kernelspec": {
   "display_name": "Python 3",
   "language": "python",
   "name": "python3"
  },
  "language_info": {
   "codemirror_mode": {
    "name": "ipython",
    "version": 3
   },
   "file_extension": ".py",
   "mimetype": "text/x-python",
   "name": "python",
   "nbconvert_exporter": "python",
   "pygments_lexer": "ipython3",
   "version": "3.6.8"
  }
 },
 "nbformat": 4,
 "nbformat_minor": 2
}
